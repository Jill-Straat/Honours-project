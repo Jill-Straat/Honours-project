{
 "cells": [
  {
   "cell_type": "markdown",
   "metadata": {},
   "source": [
    "# Assignment 6\n",
    "## Jill Straat\n",
    "## s4062116\n",
    "## Problem 1"
   ]
  },
  {
   "cell_type": "code",
   "execution_count": 1,
   "metadata": {},
   "outputs": [
    {
     "name": "stdout",
     "output_type": "stream",
     "text": [
      " Own function            gammainc\n",
      " 0.9544997361036416    0.9544997361036415\n",
      " 0.8646647167633873    0.8646647167633873\n",
      " 0.7385358700508893    0.7385358700508888\n",
      " 0.5939941502901619    0.5939941502901616\n",
      " 0.4505840486472195    0.4505840486472198\n",
      " 0.3233235838169365    0.32332358381693654\n",
      " 0.22022259152428383    0.22022259152428406\n",
      " 0.14287653950145288    0.14287653950145296\n"
     ]
    }
   ],
   "source": [
    "from math import pi, e\n",
    "from scipy.special import erf, gammainc\n",
    "import numpy as np\n",
    "def gamma(s, x):\n",
    "    if s == 1:\n",
    "        return(1-e**(-x))\n",
    "    elif s == 0.5:\n",
    "        return (pi**0.5 *erf(x**0.5))\n",
    "    else:\n",
    "        s = s-1\n",
    "        return (s*gamma(s, x)-x**s * e**(-x))\n",
    "\n",
    "def Gamma(s):\n",
    "    if s == 1:\n",
    "        return 1\n",
    "    elif s == 0.5:\n",
    "        return pi**0.5\n",
    "    else:\n",
    "        s = s-1\n",
    "        return (s*Gamma(s))\n",
    "    \n",
    "def P(s, x):\n",
    "    g = gamma(s, x)\n",
    "    G = Gamma(s)\n",
    "    return g/G\n",
    "\n",
    "S = np.linspace(0.5, 4, 8)\n",
    "\n",
    "print(\" Own function            gammainc\")\n",
    "for i in S:\n",
    "    p = P(i, 2)\n",
    "    q = gammainc(i,2)\n",
    "    print(\" {}    {}\".format(p, q))"
   ]
  },
  {
   "cell_type": "markdown",
   "metadata": {},
   "source": [
    "## Problem 2\n",
    "Sample variance is given by\n",
    "$$S_n^2 = \\frac{1}{n-1}\\sum_{i=1}^n (x_i - \\overline{x_n})^2$$\n",
    "where $x_i$ is our data point, $x_n$ the value predicted by the power law and $n$ the number of data points."
   ]
  },
  {
   "cell_type": "code",
   "execution_count": 2,
   "metadata": {},
   "outputs": [
    {
     "name": "stdout",
     "output_type": "stream",
     "text": [
      "The most prbable estimate for the sample variance for A is 0.2574\n",
      "The most prbable estimate for the sample variance for B is 0.008001\n"
     ]
    }
   ],
   "source": [
    "def powerlaw(x, S0, SI):\n",
    "    \"\"\"We can take v_0 and v in Hz, MHz or even mHz, because the 10^x will cancel in the ratio\"\"\"\n",
    "    v0 = 160\n",
    "    return(S0*(x/v0)**SI)\n",
    "\n",
    "def samplevar(x, S0, SI, data):\n",
    "    n = len(data)\n",
    "    xn = powerlaw(x, S0, SI)\n",
    "    return (np.sum((data-xn)**2)/(n-1))\n",
    "    \n",
    "\n",
    "A = np.array([0.80, 1.24, 1.15, 0.75])\n",
    "B = np.array([2.51, 1.94, 1.66, 1.29])\n",
    "v = np.array([100, 140, 180, 220])\n",
    "\n",
    "print(\"The most prbable estimate for the sample variance for A is {:.4}\".format(samplevar(v, 1.3, -0.4, A)))\n",
    "print(\"The most prbable estimate for the sample variance for B is {:.4}\".format(samplevar(v, 1.8, -0.7, B)))"
   ]
  },
  {
   "cell_type": "markdown",
   "metadata": {},
   "source": [
    "## Problem 3\n",
    "$\\chi^2$ value is given by:\n",
    "$$\\chi^2 = \\sum_{k=1} ^N \\left(\\frac{F_k-D_k}{\\sigma_k}\\right)^2$$"
   ]
  },
  {
   "cell_type": "code",
   "execution_count": 3,
   "metadata": {},
   "outputs": [
    {
     "name": "stdout",
     "output_type": "stream",
     "text": [
      "The Chi squared value for source A is 77.22\n",
      "The Chi squared value for source B is 2.4\n"
     ]
    }
   ],
   "source": [
    "def chi(x, S0, SI, data, sigma):\n",
    "    F = powerlaw(x, S0, SI)\n",
    "    D = data\n",
    "    return np.sum(((F-D)/sigma)**2)\n",
    "print(\"The Chi squared value for source A is {:.4}\".format(chi(v, 1.3, -0.4, A, 0.1)))\n",
    "print(\"The Chi squared value for source B is {:.4}\".format(chi(v, 1.8, -0.7, B, 0.1)))"
   ]
  },
  {
   "cell_type": "markdown",
   "metadata": {},
   "source": [
    "$\\chi^2$ states the goodness of fit of the model/parameters. In general one can say that a lower value of $\\chi^2$ resembles a better fit. Hence we can conclude that the parameters for B match the data collected by source B better than the parameters for A match the data form source A.\n",
    "\n",
    "## Problem 4)\n",
    "In the booklet we find that the degrees of freedom are given by:\n",
    "$$ k = N-M$$\n",
    "Where N is the amount of measurements and M the amount of parameters.\n",
    "\n",
    "p-value is given by:\n",
    "$$p(x|k) = 1-P\\left(\\frac{k}{2},\\frac{\\chi^2}{2}\\right)$$\n",
    "In eq.1 we have to fit two parameters, $S_0$ and $SI$."
   ]
  },
  {
   "cell_type": "code",
   "execution_count": 4,
   "metadata": {},
   "outputs": [
    {
     "name": "stdout",
     "output_type": "stream",
     "text": [
      "The degrees of freedom are given by k=2\n",
      "The p-value for source A is 0.0\n",
      "The p-value for source B is 0.3012\n"
     ]
    }
   ],
   "source": [
    "def Pval(x, S0, SI, data, sigma, M):\n",
    "    k = len(data)-M\n",
    "    X = chi(x, S0, SI, data, sigma)\n",
    "    p = P(k/2, X/2)\n",
    "    return 1-p, k\n",
    "\n",
    "p = Pval(v, 1.3, -0.4, A, 0.1,2)\n",
    "q = Pval(v, 1.8, -0.7, B, 0.1,2)\n",
    "print(\"The degrees of freedom are given by k={}\".format(p[1]))\n",
    "print(\"The p-value for source A is {}\".format(p[0]))\n",
    "print(\"The p-value for source B is {:.4}\".format(q[0]))"
   ]
  },
  {
   "cell_type": "markdown",
   "metadata": {},
   "source": [
    "the p-value is the probability of obtaining results at least as extreme as the observed results of a statistical hypothesis test, assuming that the null hypothesis is correct. A smaller p-value means that there is stronger evidence in favor of the alternative hypothesis. \n",
    "\n",
    "This means that we need to find another model for source A, since $p=0$. And that the model for source B is pretty reliable, because $p=0.3$\n",
    "\n",
    "## Problem 5\n",
    "$$ c_i = b_i\\sqrt{1.0-q^2}-qa_i$$\n",
    "Covariance is given by:\n",
    "$$\\langle(x-\\langle x\\rangle)(y-\\langle y\\rangle)\\rangle$$\n",
    "And the linear correlation coefficient is given by:\n",
    "$$\\rho = \\frac{covariance}{\\sigma_x\\sigma_y}$$"
   ]
  },
  {
   "cell_type": "code",
   "execution_count": 8,
   "metadata": {},
   "outputs": [
    {
     "name": "stdout",
     "output_type": "stream",
     "text": [
      "q= 0.8037992484609013\n",
      "The linear correlation coefficient ρ(a, -a)=-1.0\n",
      "The linear correlation coefficient ρ(a, b)=-0.00101\n",
      "The linear correlation coefficient ρ(a, c)=-0.803\n"
     ]
    },
    {
     "data": {
      "image/png": "[encoded data removed]",
      "text/plain": [
       "<Figure size 432x288 with 3 Axes>"
      ]
     },
     "metadata": {
      "needs_background": "light"
     },
     "output_type": "display_data"
    }
   ],
   "source": [
    "import random\n",
    "import matplotlib.pyplot as plt\n",
    "\n",
    "def covar(Y1, Y2):\n",
    "    cov = np.mean((Y1-np.mean(Y1))*(Y2-np.mean(Y2)))\n",
    "    return cov\n",
    "\n",
    "def corcoef(Y1, Y2):\n",
    "    c = covar(Y1, Y2)\n",
    "    s1 = np.std(Y1)\n",
    "    s2 = np.std(Y2)\n",
    "    return c/(s1*s2)\n",
    "\n",
    "a = np.random.normal(size=1000)\n",
    "b = np.random.normal(size=1000)\n",
    "q = random.uniform(0.3, 0.9)\n",
    "c = b*(1.0-q**2)**0.5 - q*a\n",
    "\n",
    "print(\"q=\", q)\n",
    "fig, axs = plt.subplots(3)\n",
    "# a vs -a\n",
    "axs[0].scatter(a, -a,)\n",
    "axs[0].set_title('scatter plot a vs -a')\n",
    "axs[0].tick_params(axis='x', which='both', bottom=False, top=False, labelbottom=False)\n",
    "print(\"The linear correlation coefficient ρ(a, -a)={:.3}\".format(corcoef(a, -a)))\n",
    "\n",
    "# a vs b\n",
    "axs[1].scatter(a,b)\n",
    "axs[1].set_title('scatter plot a vs b')\n",
    "axs[1].tick_params(axis='x', which='both', bottom=False, top=False, labelbottom=False)\n",
    "print(\"The linear correlation coefficient ρ(a, b)={:.3}\".format(corcoef(a, b)))\n",
    "\n",
    "# a vs c\n",
    "axs[2].scatter(a,c)\n",
    "axs[2].set_title('scatter plot a vs c')\n",
    "print(\"The linear correlation coefficient ρ(a, c)={:.3}\".format(corcoef(a, c)))\n",
    "plt.show()"
   ]
  },
  {
   "cell_type": "markdown",
   "metadata": {},
   "source": [
    "The linear correlation coefficient can have values between $-1$ and $1$. $\\rho=0$ means that the parameters do not correlate, $0<\\rho<1$ means the parameters correlate and $-1<\\rho<0$ means the parameters anticorrelate.\n",
    "The closer $|\\rho|$ is to $1$ the stronger the correlation as you can see in the plot and from the values. \n",
    "\n",
    "This means $a$ and $-a$ anticorrelate strongly since $\\rho=-1$, which is also logical since this is almost the defination of anticorrelation. \n",
    "\n",
    "$a$ and $b$ correlate to a very low degree, since $\\rho\\approx 0$, which is logical since they are independent generated lists. However, they are both generated by a normal distribution, so they might correlate a bit as we see here.\n",
    "\n",
    "$a$ and $c$ anticorrelate to a intermediate degree, since $\\rho\\approx 0,5$. This is also logical when you take a look at the function describing c, which states that $c$ goes down when $a$ goes up."
   ]
  },
  {
   "cell_type": "code",
   "execution_count": null,
   "metadata": {},
   "outputs": [],
   "source": []
  }
 ],
 "metadata": {
  "kernelspec": {
   "display_name": "Python 3",
   "language": "python",
   "name": "python3"
  },
  "language_info": {
   "codemirror_mode": {
    "name": "ipython",
    "version": 3
   },
   "file_extension": ".py",
   "mimetype": "text/x-python",
   "name": "python",
   "nbconvert_exporter": "python",
   "pygments_lexer": "ipython3",
   "version": "3.7.4"
  }
 },
 "nbformat": 4,
 "nbformat_minor": 2
}
